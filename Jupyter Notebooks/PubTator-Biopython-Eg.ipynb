{
 "cells": [
  {
   "cell_type": "markdown",
   "metadata": {},
   "source": [
    "## Part 1. Obtaining the **PubTator** annotations for a set of IDs"
   ]
  },
  {
   "cell_type": "code",
   "execution_count": 2,
   "metadata": {},
   "outputs": [],
   "source": [
    "import pandas as pd\n",
    "import matplotlib.pyplot as plt\n",
    "import seaborn as sns\n",
    "\n",
    "import time\n",
    "\n",
    "import requests\n",
    "import json"
   ]
  },
  {
   "cell_type": "code",
   "execution_count": 3,
   "metadata": {},
   "outputs": [],
   "source": [
    "#List of IDs (PMIDS or PMCIDs) expected to be a string for the input. Example: \"PMC3486876,PMC3345530,PMC6757961\"  (no spaces)\n",
    "\n",
    "def get_pt_annotations(str_of_ids):\n",
    "\n",
    "    dfs_list = [] # this is for storing all the Pandas DataFrames\n",
    "    list_of_ids = str.split(str_of_ids, sep=\",\")\n",
    "\n",
    "    for id in list_of_ids:\n",
    "\n",
    "        if \"PMC\" in id:\n",
    "            in_url = \"https://www.ncbi.nlm.nih.gov/research/pubtator-api/publications/export/biocjson?pmcids=\" + id\n",
    "        else:\n",
    "            in_url = \"https://www.ncbi.nlm.nih.gov/research/pubtator-api/publications/export/biocjson?pmids=\" + id\n",
    "        \n",
    "\n",
    "        r = requests.get(in_url)\n",
    "        try:\n",
    "            data = r.json()\n",
    "        except ValueError:\n",
    "            print(f\"Response content is not valid JSON for {id}\")\n",
    "            continue\n",
    "\n",
    "        if r.status_code == 204:\n",
    "            print(f\"No content - empty response body for {id}\")\n",
    "            continue\n",
    "        elif r.status_code != 200:\n",
    "            print(f\"Not successful GET request for {id}\")\n",
    "            continue\n",
    "        \n",
    "        \n",
    "        curr_num = list_of_ids.index(id) + 1\n",
    "        if (curr_num) % 3 == 0:\n",
    "                time.sleep(0.34)  # abide by the API request limits\n",
    "\n",
    "        # Putting the annotation text into a list\n",
    "        annotations = []\n",
    "\n",
    "        for i in data[\"passages\"]:\n",
    "            for j in i[\"annotations\"]:\n",
    "                annotations.append(j[\"text\"])  # appending the annotation values to a list\n",
    "\n",
    "        annotations\n",
    "\n",
    "        # Creating a Pandas Series from the data in the annotations list\n",
    "        pubtator_annotations = pd.Series(annotations, name=\"text\")\n",
    "        pubtator_annotations    \n",
    "\n",
    "        # DataFrame representation of the annotation counts\n",
    "        df = pubtator_annotations.value_counts().to_frame(name=\"Annotation Counts\")\n",
    "\n",
    "        dfs_list.append(df)\n",
    "    \n",
    "    # With a dictionary, we can use the key to easily grab the df associated with a particular PMID or PMCID\n",
    "    dict_of_dfs = dict(zip(list_of_ids, dfs_list))\n",
    "\n",
    "    return dict_of_dfs"
   ]
  },
  {
   "cell_type": "markdown",
   "metadata": {},
   "source": [
    "#### *Example with the get_pt_annotations() function*"
   ]
  },
  {
   "cell_type": "code",
   "execution_count": 11,
   "metadata": {},
   "outputs": [
    {
     "name": "stdout",
     "output_type": "stream",
     "text": [
      "Response content is not valid JSON for PMC6757961\n"
     ]
    },
    {
     "data": {
      "text/plain": [
       "{'PMC3486876':                     Annotation Counts\n",
       " GABA                              106\n",
       " mice                               59\n",
       " MOX                                54\n",
       " Mdr1                               32\n",
       " toxicity                           25\n",
       " ...                               ...\n",
       " 1N-methylimidazole                  1\n",
       " Mdr1b                               1\n",
       " Ala                                 1\n",
       " milbemycins                         1\n",
       " GABA(A) receptor                    1\n",
       " \n",
       " [148 rows x 1 columns],\n",
       " 'PMC3345530':                Annotation Counts\n",
       " glycine                       30\n",
       " hydrogen                      16\n",
       " alpha1 GlyR                   15\n",
       " C. elegans                    13\n",
       " ECD                           13\n",
       " ...                          ...\n",
       " milbemycin A4                  1\n",
       " MTS                            1\n",
       " Pro230                         1\n",
       " dips                           1\n",
       " leucine 233                    1\n",
       " \n",
       " [117 rows x 1 columns]}"
      ]
     },
     "execution_count": 11,
     "metadata": {},
     "output_type": "execute_result"
    }
   ],
   "source": [
    "#PMC3486876, PMC3345530, PMC6757961\n",
    "df_pmc = get_pt_annotations(\"PMC3486876,PMC3345530,PMC6757961\")\n",
    "df_pmc"
   ]
  },
  {
   "cell_type": "code",
   "execution_count": 12,
   "metadata": {},
   "outputs": [
    {
     "data": {
      "text/html": [
       "<div>\n",
       "<style scoped>\n",
       "    .dataframe tbody tr th:only-of-type {\n",
       "        vertical-align: middle;\n",
       "    }\n",
       "\n",
       "    .dataframe tbody tr th {\n",
       "        vertical-align: top;\n",
       "    }\n",
       "\n",
       "    .dataframe thead th {\n",
       "        text-align: right;\n",
       "    }\n",
       "</style>\n",
       "<table border=\"1\" class=\"dataframe\">\n",
       "  <thead>\n",
       "    <tr style=\"text-align: right;\">\n",
       "      <th></th>\n",
       "      <th>Annotation Counts</th>\n",
       "    </tr>\n",
       "  </thead>\n",
       "  <tbody>\n",
       "    <tr>\n",
       "      <th>GABA</th>\n",
       "      <td>106</td>\n",
       "    </tr>\n",
       "    <tr>\n",
       "      <th>mice</th>\n",
       "      <td>59</td>\n",
       "    </tr>\n",
       "    <tr>\n",
       "      <th>MOX</th>\n",
       "      <td>54</td>\n",
       "    </tr>\n",
       "    <tr>\n",
       "      <th>Mdr1</th>\n",
       "      <td>32</td>\n",
       "    </tr>\n",
       "    <tr>\n",
       "      <th>toxicity</th>\n",
       "      <td>25</td>\n",
       "    </tr>\n",
       "    <tr>\n",
       "      <th>...</th>\n",
       "      <td>...</td>\n",
       "    </tr>\n",
       "    <tr>\n",
       "      <th>1N-methylimidazole</th>\n",
       "      <td>1</td>\n",
       "    </tr>\n",
       "    <tr>\n",
       "      <th>Mdr1b</th>\n",
       "      <td>1</td>\n",
       "    </tr>\n",
       "    <tr>\n",
       "      <th>Ala</th>\n",
       "      <td>1</td>\n",
       "    </tr>\n",
       "    <tr>\n",
       "      <th>milbemycins</th>\n",
       "      <td>1</td>\n",
       "    </tr>\n",
       "    <tr>\n",
       "      <th>GABA(A) receptor</th>\n",
       "      <td>1</td>\n",
       "    </tr>\n",
       "  </tbody>\n",
       "</table>\n",
       "<p>148 rows × 1 columns</p>\n",
       "</div>"
      ],
      "text/plain": [
       "                    Annotation Counts\n",
       "GABA                              106\n",
       "mice                               59\n",
       "MOX                                54\n",
       "Mdr1                               32\n",
       "toxicity                           25\n",
       "...                               ...\n",
       "1N-methylimidazole                  1\n",
       "Mdr1b                               1\n",
       "Ala                                 1\n",
       "milbemycins                         1\n",
       "GABA(A) receptor                    1\n",
       "\n",
       "[148 rows x 1 columns]"
      ]
     },
     "execution_count": 12,
     "metadata": {},
     "output_type": "execute_result"
    }
   ],
   "source": [
    "# Access the DataFrame by the specific name/ID\n",
    "df_pmc['PMC3486876']"
   ]
  },
  {
   "cell_type": "code",
   "execution_count": 13,
   "metadata": {},
   "outputs": [
    {
     "data": {
      "text/html": [
       "<div>\n",
       "<style scoped>\n",
       "    .dataframe tbody tr th:only-of-type {\n",
       "        vertical-align: middle;\n",
       "    }\n",
       "\n",
       "    .dataframe tbody tr th {\n",
       "        vertical-align: top;\n",
       "    }\n",
       "\n",
       "    .dataframe thead th {\n",
       "        text-align: right;\n",
       "    }\n",
       "</style>\n",
       "<table border=\"1\" class=\"dataframe\">\n",
       "  <thead>\n",
       "    <tr style=\"text-align: right;\">\n",
       "      <th></th>\n",
       "      <th>Term</th>\n",
       "      <th>Annotation Counts</th>\n",
       "    </tr>\n",
       "  </thead>\n",
       "  <tbody>\n",
       "    <tr>\n",
       "      <th>0</th>\n",
       "      <td>GABA</td>\n",
       "      <td>106</td>\n",
       "    </tr>\n",
       "    <tr>\n",
       "      <th>1</th>\n",
       "      <td>mice</td>\n",
       "      <td>59</td>\n",
       "    </tr>\n",
       "    <tr>\n",
       "      <th>2</th>\n",
       "      <td>MOX</td>\n",
       "      <td>54</td>\n",
       "    </tr>\n",
       "    <tr>\n",
       "      <th>3</th>\n",
       "      <td>Mdr1</td>\n",
       "      <td>32</td>\n",
       "    </tr>\n",
       "    <tr>\n",
       "      <th>4</th>\n",
       "      <td>toxicity</td>\n",
       "      <td>25</td>\n",
       "    </tr>\n",
       "    <tr>\n",
       "      <th>...</th>\n",
       "      <td>...</td>\n",
       "      <td>...</td>\n",
       "    </tr>\n",
       "    <tr>\n",
       "      <th>86</th>\n",
       "      <td>neurotoxicity of IVM</td>\n",
       "      <td>1</td>\n",
       "    </tr>\n",
       "    <tr>\n",
       "      <th>85</th>\n",
       "      <td>overdose</td>\n",
       "      <td>1</td>\n",
       "    </tr>\n",
       "    <tr>\n",
       "      <th>84</th>\n",
       "      <td>patients</td>\n",
       "      <td>1</td>\n",
       "    </tr>\n",
       "    <tr>\n",
       "      <th>83</th>\n",
       "      <td>Ser</td>\n",
       "      <td>1</td>\n",
       "    </tr>\n",
       "    <tr>\n",
       "      <th>147</th>\n",
       "      <td>GABA(A) receptor</td>\n",
       "      <td>1</td>\n",
       "    </tr>\n",
       "  </tbody>\n",
       "</table>\n",
       "<p>148 rows × 2 columns</p>\n",
       "</div>"
      ],
      "text/plain": [
       "                     Term  Annotation Counts\n",
       "0                    GABA                106\n",
       "1                    mice                 59\n",
       "2                     MOX                 54\n",
       "3                    Mdr1                 32\n",
       "4                toxicity                 25\n",
       "..                    ...                ...\n",
       "86   neurotoxicity of IVM                  1\n",
       "85               overdose                  1\n",
       "84               patients                  1\n",
       "83                    Ser                  1\n",
       "147      GABA(A) receptor                  1\n",
       "\n",
       "[148 rows x 2 columns]"
      ]
     },
     "execution_count": 13,
     "metadata": {},
     "output_type": "execute_result"
    }
   ],
   "source": [
    "my_res = df_pmc['PMC3486876'].reset_index().sort_values(by=\"Annotation Counts\", ascending = False)\n",
    "my_res = my_res.rename(columns={\"index\": \"Term\"})\n",
    "my_res"
   ]
  },
  {
   "cell_type": "code",
   "execution_count": 42,
   "metadata": {},
   "outputs": [
    {
     "data": {
      "image/png": "[encoded data removed]",
      "text/plain": [
       "<Figure size 750x450 with 1 Axes>"
      ]
     },
     "metadata": {
      "needs_background": "light"
     },
     "output_type": "display_data"
    }
   ],
   "source": [
    "plt.figure(figsize=(5,3),dpi=150)\n",
    "sns.barplot(data=my_res.head(10), x=\"Term\", y=\"Annotation Counts\", palette=\"turbo\")\n",
    "plt.xticks(rotation=90);\n",
    "\n",
    "plt.title(\"PMC3486876 top-10 annotations\")\n",
    "plt.show()"
   ]
  },
  {
   "cell_type": "markdown",
   "metadata": {},
   "source": [
    "## Part 2. Information Retrieval with **Biopython** library"
   ]
  },
  {
   "cell_type": "markdown",
   "metadata": {},
   "source": [
    "To avoid overloading the E-utilities servers, NCBI recommends that users post no more than three URL requests per second and limit large jobs to either weekends or between 9:00 PM and 5:00 AM Eastern time during weekdays."
   ]
  },
  {
   "cell_type": "code",
   "execution_count": null,
   "metadata": {},
   "outputs": [],
   "source": [
    "from Bio import Entrez\n",
    "Entrez.email = \"Your.Email.Here@example.org\" # Always tell NCBI who you are"
   ]
  },
  {
   "cell_type": "markdown",
   "metadata": {},
   "source": [
    "### Some of the E-utilities: EGQuery, ESearch, ESummary, ELink\n",
    "- - -"
   ]
  },
  {
   "cell_type": "markdown",
   "metadata": {},
   "source": [
    "#### *EGQuery example*\n",
    "##### **EGQuery** will search a query in all Entrez databases and return the number of results for the query in each database."
   ]
  },
  {
   "cell_type": "code",
   "execution_count": 30,
   "metadata": {},
   "outputs": [],
   "source": [
    "query = \"GABA AND Zebrafish AND GABRA5\"\n",
    "\n",
    "handle = Entrez.egquery(term=query)\n",
    "record = Entrez.read(handle)"
   ]
  },
  {
   "cell_type": "code",
   "execution_count": 31,
   "metadata": {},
   "outputs": [
    {
     "data": {
      "text/html": [
       "<div>\n",
       "<style scoped>\n",
       "    .dataframe tbody tr th:only-of-type {\n",
       "        vertical-align: middle;\n",
       "    }\n",
       "\n",
       "    .dataframe tbody tr th {\n",
       "        vertical-align: top;\n",
       "    }\n",
       "\n",
       "    .dataframe thead th {\n",
       "        text-align: right;\n",
       "    }\n",
       "</style>\n",
       "<table border=\"1\" class=\"dataframe\">\n",
       "  <thead>\n",
       "    <tr style=\"text-align: right;\">\n",
       "      <th></th>\n",
       "      <th>DbName</th>\n",
       "      <th>MenuName</th>\n",
       "      <th>Count</th>\n",
       "      <th>Status</th>\n",
       "    </tr>\n",
       "  </thead>\n",
       "  <tbody>\n",
       "    <tr>\n",
       "      <th>0</th>\n",
       "      <td>pubmed</td>\n",
       "      <td>PubMed</td>\n",
       "      <td>0</td>\n",
       "      <td>Term or Database is not found</td>\n",
       "    </tr>\n",
       "    <tr>\n",
       "      <th>1</th>\n",
       "      <td>pmc</td>\n",
       "      <td>PubMed Central</td>\n",
       "      <td>45</td>\n",
       "      <td>Ok</td>\n",
       "    </tr>\n",
       "    <tr>\n",
       "      <th>2</th>\n",
       "      <td>mesh</td>\n",
       "      <td>MeSH</td>\n",
       "      <td>0</td>\n",
       "      <td>Term or Database is not found</td>\n",
       "    </tr>\n",
       "    <tr>\n",
       "      <th>3</th>\n",
       "      <td>books</td>\n",
       "      <td>Books</td>\n",
       "      <td>0</td>\n",
       "      <td>Term or Database is not found</td>\n",
       "    </tr>\n",
       "    <tr>\n",
       "      <th>4</th>\n",
       "      <td>pubmedhealth</td>\n",
       "      <td>PubMed Health</td>\n",
       "      <td>Error</td>\n",
       "      <td>Database Error</td>\n",
       "    </tr>\n",
       "    <tr>\n",
       "      <th>5</th>\n",
       "      <td>omim</td>\n",
       "      <td>OMIM</td>\n",
       "      <td>0</td>\n",
       "      <td>Term or Database is not found</td>\n",
       "    </tr>\n",
       "    <tr>\n",
       "      <th>6</th>\n",
       "      <td>ncbisearch</td>\n",
       "      <td>Site Search</td>\n",
       "      <td>0</td>\n",
       "      <td>Term or Database is not found</td>\n",
       "    </tr>\n",
       "    <tr>\n",
       "      <th>7</th>\n",
       "      <td>nuccore</td>\n",
       "      <td>Nucleotide</td>\n",
       "      <td>9</td>\n",
       "      <td>Ok</td>\n",
       "    </tr>\n",
       "    <tr>\n",
       "      <th>8</th>\n",
       "      <td>nucgss</td>\n",
       "      <td>GSS</td>\n",
       "      <td>0</td>\n",
       "      <td>Ok</td>\n",
       "    </tr>\n",
       "    <tr>\n",
       "      <th>9</th>\n",
       "      <td>nucest</td>\n",
       "      <td>EST</td>\n",
       "      <td>0</td>\n",
       "      <td>Ok</td>\n",
       "    </tr>\n",
       "    <tr>\n",
       "      <th>10</th>\n",
       "      <td>protein</td>\n",
       "      <td>Protein</td>\n",
       "      <td>0</td>\n",
       "      <td>Term or Database is not found</td>\n",
       "    </tr>\n",
       "    <tr>\n",
       "      <th>11</th>\n",
       "      <td>genome</td>\n",
       "      <td>Genome</td>\n",
       "      <td>0</td>\n",
       "      <td>Term or Database is not found</td>\n",
       "    </tr>\n",
       "    <tr>\n",
       "      <th>12</th>\n",
       "      <td>structure</td>\n",
       "      <td>Structure</td>\n",
       "      <td>0</td>\n",
       "      <td>Term or Database is not found</td>\n",
       "    </tr>\n",
       "    <tr>\n",
       "      <th>13</th>\n",
       "      <td>taxonomy</td>\n",
       "      <td>Taxonomy</td>\n",
       "      <td>0</td>\n",
       "      <td>Term or Database is not found</td>\n",
       "    </tr>\n",
       "    <tr>\n",
       "      <th>14</th>\n",
       "      <td>snp</td>\n",
       "      <td>SNP</td>\n",
       "      <td>0</td>\n",
       "      <td>Term or Database is not found</td>\n",
       "    </tr>\n",
       "    <tr>\n",
       "      <th>15</th>\n",
       "      <td>dbvar</td>\n",
       "      <td>dbVar</td>\n",
       "      <td>0</td>\n",
       "      <td>Term or Database is not found</td>\n",
       "    </tr>\n",
       "    <tr>\n",
       "      <th>16</th>\n",
       "      <td>gene</td>\n",
       "      <td>Gene</td>\n",
       "      <td>5</td>\n",
       "      <td>Ok</td>\n",
       "    </tr>\n",
       "    <tr>\n",
       "      <th>17</th>\n",
       "      <td>sra</td>\n",
       "      <td>SRA</td>\n",
       "      <td>0</td>\n",
       "      <td>Term or Database is not found</td>\n",
       "    </tr>\n",
       "    <tr>\n",
       "      <th>18</th>\n",
       "      <td>biosystems</td>\n",
       "      <td>BioSystems</td>\n",
       "      <td>Error</td>\n",
       "      <td>Database Error</td>\n",
       "    </tr>\n",
       "    <tr>\n",
       "      <th>19</th>\n",
       "      <td>unigene</td>\n",
       "      <td>UniGene</td>\n",
       "      <td>0</td>\n",
       "      <td>Ok</td>\n",
       "    </tr>\n",
       "    <tr>\n",
       "      <th>20</th>\n",
       "      <td>cdd</td>\n",
       "      <td>Conserved Domains</td>\n",
       "      <td>0</td>\n",
       "      <td>Term or Database is not found</td>\n",
       "    </tr>\n",
       "    <tr>\n",
       "      <th>21</th>\n",
       "      <td>clone</td>\n",
       "      <td>Clone</td>\n",
       "      <td>0</td>\n",
       "      <td>Ok</td>\n",
       "    </tr>\n",
       "    <tr>\n",
       "      <th>22</th>\n",
       "      <td>popset</td>\n",
       "      <td>PopSet</td>\n",
       "      <td>0</td>\n",
       "      <td>Term or Database is not found</td>\n",
       "    </tr>\n",
       "    <tr>\n",
       "      <th>23</th>\n",
       "      <td>geoprofiles</td>\n",
       "      <td>GEO Profiles</td>\n",
       "      <td>0</td>\n",
       "      <td>Term or Database is not found</td>\n",
       "    </tr>\n",
       "    <tr>\n",
       "      <th>24</th>\n",
       "      <td>gds</td>\n",
       "      <td>GEO DataSets</td>\n",
       "      <td>0</td>\n",
       "      <td>Term or Database is not found</td>\n",
       "    </tr>\n",
       "    <tr>\n",
       "      <th>25</th>\n",
       "      <td>homologene</td>\n",
       "      <td>HomoloGene</td>\n",
       "      <td>1</td>\n",
       "      <td>Ok</td>\n",
       "    </tr>\n",
       "    <tr>\n",
       "      <th>26</th>\n",
       "      <td>pccompound</td>\n",
       "      <td>PubChem Compound</td>\n",
       "      <td>0</td>\n",
       "      <td>Term or Database is not found</td>\n",
       "    </tr>\n",
       "    <tr>\n",
       "      <th>27</th>\n",
       "      <td>pcsubstance</td>\n",
       "      <td>PubChem Substance</td>\n",
       "      <td>0</td>\n",
       "      <td>Term or Database is not found</td>\n",
       "    </tr>\n",
       "    <tr>\n",
       "      <th>28</th>\n",
       "      <td>pcassay</td>\n",
       "      <td>PubChem BioAssay</td>\n",
       "      <td>0</td>\n",
       "      <td>Term or Database is not found</td>\n",
       "    </tr>\n",
       "    <tr>\n",
       "      <th>29</th>\n",
       "      <td>nlmcatalog</td>\n",
       "      <td>NLM Catalog</td>\n",
       "      <td>0</td>\n",
       "      <td>Term or Database is not found</td>\n",
       "    </tr>\n",
       "    <tr>\n",
       "      <th>30</th>\n",
       "      <td>probe</td>\n",
       "      <td>Probe</td>\n",
       "      <td>0</td>\n",
       "      <td>Ok</td>\n",
       "    </tr>\n",
       "    <tr>\n",
       "      <th>31</th>\n",
       "      <td>gap</td>\n",
       "      <td>dbGaP</td>\n",
       "      <td>0</td>\n",
       "      <td>Term or Database is not found</td>\n",
       "    </tr>\n",
       "    <tr>\n",
       "      <th>32</th>\n",
       "      <td>proteinclusters</td>\n",
       "      <td>Protein Clusters</td>\n",
       "      <td>0</td>\n",
       "      <td>Term or Database is not found</td>\n",
       "    </tr>\n",
       "    <tr>\n",
       "      <th>33</th>\n",
       "      <td>bioproject</td>\n",
       "      <td>BioProject</td>\n",
       "      <td>0</td>\n",
       "      <td>Term or Database is not found</td>\n",
       "    </tr>\n",
       "    <tr>\n",
       "      <th>34</th>\n",
       "      <td>biosample</td>\n",
       "      <td>BioSample</td>\n",
       "      <td>0</td>\n",
       "      <td>Term or Database is not found</td>\n",
       "    </tr>\n",
       "    <tr>\n",
       "      <th>35</th>\n",
       "      <td>biocollections</td>\n",
       "      <td>BioCollections</td>\n",
       "      <td>0</td>\n",
       "      <td>Term or Database is not found</td>\n",
       "    </tr>\n",
       "  </tbody>\n",
       "</table>\n",
       "</div>"
      ],
      "text/plain": [
       "             DbName           MenuName  Count                         Status\n",
       "0            pubmed             PubMed      0  Term or Database is not found\n",
       "1               pmc     PubMed Central     45                             Ok\n",
       "2              mesh               MeSH      0  Term or Database is not found\n",
       "3             books              Books      0  Term or Database is not found\n",
       "4      pubmedhealth      PubMed Health  Error                 Database Error\n",
       "5              omim               OMIM      0  Term or Database is not found\n",
       "6        ncbisearch        Site Search      0  Term or Database is not found\n",
       "7           nuccore         Nucleotide      9                             Ok\n",
       "8            nucgss                GSS      0                             Ok\n",
       "9            nucest                EST      0                             Ok\n",
       "10          protein            Protein      0  Term or Database is not found\n",
       "11           genome             Genome      0  Term or Database is not found\n",
       "12        structure          Structure      0  Term or Database is not found\n",
       "13         taxonomy           Taxonomy      0  Term or Database is not found\n",
       "14              snp                SNP      0  Term or Database is not found\n",
       "15            dbvar              dbVar      0  Term or Database is not found\n",
       "16             gene               Gene      5                             Ok\n",
       "17              sra                SRA      0  Term or Database is not found\n",
       "18       biosystems         BioSystems  Error                 Database Error\n",
       "19          unigene            UniGene      0                             Ok\n",
       "20              cdd  Conserved Domains      0  Term or Database is not found\n",
       "21            clone              Clone      0                             Ok\n",
       "22           popset             PopSet      0  Term or Database is not found\n",
       "23      geoprofiles       GEO Profiles      0  Term or Database is not found\n",
       "24              gds       GEO DataSets      0  Term or Database is not found\n",
       "25       homologene         HomoloGene      1                             Ok\n",
       "26       pccompound   PubChem Compound      0  Term or Database is not found\n",
       "27      pcsubstance  PubChem Substance      0  Term or Database is not found\n",
       "28          pcassay   PubChem BioAssay      0  Term or Database is not found\n",
       "29       nlmcatalog        NLM Catalog      0  Term or Database is not found\n",
       "30            probe              Probe      0                             Ok\n",
       "31              gap              dbGaP      0  Term or Database is not found\n",
       "32  proteinclusters   Protein Clusters      0  Term or Database is not found\n",
       "33       bioproject         BioProject      0  Term or Database is not found\n",
       "34        biosample          BioSample      0  Term or Database is not found\n",
       "35   biocollections     BioCollections      0  Term or Database is not found"
      ]
     },
     "execution_count": 31,
     "metadata": {},
     "output_type": "execute_result"
    }
   ],
   "source": [
    "# Results for 'GABA AND Zebrafish AND GABRA5[tiab]'\n",
    "pd.DataFrame(record[\"eGQueryResult\"])"
   ]
  },
  {
   "cell_type": "markdown",
   "metadata": {},
   "source": [
    "#### *ESearch example*\n",
    "##### **ESearch** retrieves a set of IDs corresponding to a search query. **ESearch also retrieves the counts for that query.**"
   ]
  },
  {
   "cell_type": "markdown",
   "metadata": {},
   "source": [
    "- Checking to see if the scientific name (Danio rerio) is translated to Zebrafish with the QueryTranslation from the code."
   ]
  },
  {
   "cell_type": "code",
   "execution_count": 27,
   "metadata": {},
   "outputs": [
    {
     "name": "stdout",
     "output_type": "stream",
     "text": [
      "Found 8 results\n"
     ]
    }
   ],
   "source": [
    "# Querying against the PubMed database\n",
    "search_results = Entrez.read(\n",
    "    Entrez.esearch(db=\"pubmed\", term=\"GABA AND GABRA1 AND Danio rerio\")\n",
    ")\n",
    "count = int(search_results[\"Count\"])\n",
    "print(f\"Found {count} results\")"
   ]
  },
  {
   "cell_type": "code",
   "execution_count": 28,
   "metadata": {},
   "outputs": [
    {
     "data": {
      "text/plain": [
       "{'Count': '8', 'RetMax': '8', 'RetStart': '0', 'IdList': ['34925021', '34411917', '33296199', '32753576', '32205311', '30949046', '30324621', '28535436'], 'TranslationSet': [{'From': 'GABA', 'To': '\"gamma-aminobutyric acid\"[MeSH Terms] OR (\"gamma-aminobutyric\"[All Fields] AND \"acid\"[All Fields]) OR \"gamma-aminobutyric acid\"[All Fields] OR \"gaba\"[All Fields]'}, {'From': 'Danio rerio', 'To': '\"zebrafish\"[MeSH Terms] OR \"zebrafish\"[All Fields] OR (\"danio\"[All Fields] AND \"rerio\"[All Fields]) OR \"danio rerio\"[All Fields]'}], 'TranslationStack': [{'Term': '\"gamma-aminobutyric acid\"[MeSH Terms]', 'Field': 'MeSH Terms', 'Count': '46542', 'Explode': 'Y'}, {'Term': '\"gamma-aminobutyric\"[All Fields]', 'Field': 'All Fields', 'Count': '54216', 'Explode': 'N'}, {'Term': '\"acid\"[All Fields]', 'Field': 'All Fields', 'Count': '2748430', 'Explode': 'N'}, 'AND', 'GROUP', 'OR', {'Term': '\"gamma-aminobutyric acid\"[All Fields]', 'Field': 'All Fields', 'Count': '53586', 'Explode': 'N'}, 'OR', {'Term': '\"gaba\"[All Fields]', 'Field': 'All Fields', 'Count': '74729', 'Explode': 'N'}, 'OR', 'GROUP', {'Term': 'GABRA1[All Fields]', 'Field': 'All Fields', 'Count': '493', 'Explode': 'N'}, 'AND', {'Term': '\"zebrafish\"[MeSH Terms]', 'Field': 'MeSH Terms', 'Count': '36928', 'Explode': 'Y'}, {'Term': '\"zebrafish\"[All Fields]', 'Field': 'All Fields', 'Count': '48077', 'Explode': 'N'}, 'OR', {'Term': '\"danio\"[All Fields]', 'Field': 'All Fields', 'Count': '8838', 'Explode': 'N'}, {'Term': '\"rerio\"[All Fields]', 'Field': 'All Fields', 'Count': '9134', 'Explode': 'N'}, 'AND', 'GROUP', 'OR', {'Term': '\"danio rerio\"[All Fields]', 'Field': 'All Fields', 'Count': '8692', 'Explode': 'N'}, 'OR', 'GROUP', 'AND'], 'QueryTranslation': '(\"gamma-aminobutyric acid\"[MeSH Terms] OR (\"gamma-aminobutyric\"[All Fields] AND \"acid\"[All Fields]) OR \"gamma-aminobutyric acid\"[All Fields] OR \"gaba\"[All Fields]) AND GABRA1[All Fields] AND (\"zebrafish\"[MeSH Terms] OR \"zebrafish\"[All Fields] OR (\"danio\"[All Fields] AND \"rerio\"[All Fields]) OR \"danio rerio\"[All Fields])'}"
      ]
     },
     "execution_count": 28,
     "metadata": {},
     "output_type": "execute_result"
    }
   ],
   "source": [
    "search_results"
   ]
  },
  {
   "cell_type": "markdown",
   "metadata": {},
   "source": [
    "##### With the above search results, we see *'From': 'Danio rerio', 'To': '\"zebrafish\"[MeSH Terms]*\n",
    "##### - The \"zebrafish\"[MeSH Terms] includes Danio rerio as an entry term/synonym when retrieving PubMed abstracts.\n",
    "- If an entry term is used in the query, it is automatically substituted by the related MeSH term.\n",
    "- \"Entry terms are generally used interchangeably with the MeSH preferred term for purposes of cataloging, indexing and retrieval.\"\n",
    "    - \"*The MeSH preferred term is tagged as [MeSH Terms] in a PubMed or PMC query.*\""
   ]
  },
  {
   "cell_type": "code",
   "execution_count": 29,
   "metadata": {},
   "outputs": [
    {
     "data": {
      "text/plain": [
       "['34925021', '34411917', '33296199', '32753576', '32205311', '30949046', '30324621', '28535436']"
      ]
     },
     "execution_count": 29,
     "metadata": {},
     "output_type": "execute_result"
    }
   ],
   "source": [
    "idlist = search_results['IdList']\n",
    "idlist"
   ]
  },
  {
   "cell_type": "markdown",
   "metadata": {},
   "source": [
    "#### *ESummary example*\n",
    "**ESummary** returns DocSums (document summaries) for a set of provided IDs."
   ]
  },
  {
   "cell_type": "code",
   "execution_count": 24,
   "metadata": {},
   "outputs": [
    {
     "data": {
      "text/plain": [
       "[{'Item': [], 'Id': '30841457', 'PubDate': '2019 Mar', 'EPubDate': '2019 Jan 19', 'Source': 'Biomed Pharmacother', 'AuthorList': ['Gupta GL', 'Sharma L'], 'LastAuthor': 'Sharma L', 'Title': 'Bacopa monnieri abrogates alcohol abstinence-induced anxiety-like behavior by regulating biochemical and Gabra1, Gabra4, Gabra5 gene expression of GABA<sub>A</sub> receptor signaling pathway in rats.', 'Volume': '111', 'Issue': '', 'Pages': '1417-1428', 'LangList': ['English'], 'NlmUniqueID': '8213295', 'ISSN': '0753-3322', 'ESSN': '1950-6007', 'PubTypeList': ['Journal Article'], 'RecordStatus': 'PubMed - indexed for MEDLINE', 'PubStatus': 'ppublish+epublish', 'ArticleIds': {'medline': [], 'pubmed': ['30841457'], 'pii': 'S0753-3322(18)38391-4', 'doi': '10.1016/j.biopha.2019.01.048', 'rid': '30841457', 'eid': '30841457'}, 'DOI': '10.1016/j.biopha.2019.01.048', 'History': {'medline': ['2019/06/22 06:00'], 'pubmed': ['2019/03/08 06:00'], 'received': '2018/12/01 00:00', 'revised': '2019/01/14 00:00', 'accepted': '2019/01/16 00:00', 'entrez': '2019/03/08 06:00'}, 'References': [], 'HasAbstract': IntegerElement(1, attributes={}), 'PmcRefCount': IntegerElement(3, attributes={}), 'FullJournalName': 'Biomedicine & pharmacotherapy = Biomedecine & pharmacotherapie', 'ELocationID': 'doi: 10.1016/j.biopha.2019.01.048', 'SO': '2019 Mar;111:1417-1428'}]"
      ]
     },
     "execution_count": 24,
     "metadata": {},
     "output_type": "execute_result"
    }
   ],
   "source": [
    "# ESummary\n",
    "handle = Entrez.esummary(db=\"pubmed\", id=\"30841457\")\n",
    "record = Entrez.read(handle)\n",
    "\n",
    "record"
   ]
  },
  {
   "cell_type": "code",
   "execution_count": 25,
   "metadata": {},
   "outputs": [
    {
     "data": {
      "text/plain": [
       "'2019 Mar'"
      ]
     },
     "execution_count": 25,
     "metadata": {},
     "output_type": "execute_result"
    }
   ],
   "source": [
    "# Publication date\n",
    "record[0][\"PubDate\"]"
   ]
  },
  {
   "cell_type": "markdown",
   "metadata": {},
   "source": [
    "#### *ELink example*\n",
    "##### **ELink** checks for linked external articles, and it helps us get the number of articles that have cited \"this\" publication. "
   ]
  },
  {
   "cell_type": "code",
   "execution_count": 22,
   "metadata": {},
   "outputs": [
    {
     "data": {
      "text/plain": [
       "[{'ERROR': [], 'LinkSetDbHistory': [], 'LinkSetDb': [{'Link': [{'Id': '34805114'}, {'Id': '33407346'}, {'Id': '33102860'}], 'DbTo': 'pubmed', 'LinkName': 'pubmed_pubmed_citedin'}], 'DbFrom': 'pubmed', 'IdList': ['30841457']}]"
      ]
     },
     "execution_count": 22,
     "metadata": {},
     "output_type": "execute_result"
    }
   ],
   "source": [
    "# ELink\n",
    "record = Entrez.read(Entrez.elink(dbfrom=\"pubmed\", db=\"pubmed\", id='30841457', linkname=\"pubmed_pubmed_citedin\"))\n",
    "record"
   ]
  },
  {
   "cell_type": "markdown",
   "metadata": {},
   "source": [
    "##### **[{'Link': [{'Id': '34805114'}, {'Id': '33407346'}, {'Id': '33102860'}]** \n",
    "refers to the 3 articles that cited the publication with PMID 30841457"
   ]
  },
  {
   "cell_type": "code",
   "execution_count": 23,
   "metadata": {},
   "outputs": [
    {
     "data": {
      "text/plain": [
       "3"
      ]
     },
     "execution_count": 23,
     "metadata": {},
     "output_type": "execute_result"
    }
   ],
   "source": [
    "# Citation counts: 3\n",
    "len(record[0][\"LinkSetDb\"][0][\"Link\"])"
   ]
  },
  {
   "cell_type": "code",
   "execution_count": null,
   "metadata": {},
   "outputs": [],
   "source": []
  }
 ],
 "metadata": {
  "interpreter": {
   "hash": "fe09fe93d9b4a7932840170a2e78d2f74ca443d326a35427f59ee136c99bfa28"
  },
  "kernelspec": {
   "display_name": "Python 3.8.5 ('base')",
   "language": "python",
   "name": "python3"
  },
  "language_info": {
   "codemirror_mode": {
    "name": "ipython",
    "version": 3
   },
   "file_extension": ".py",
   "mimetype": "text/x-python",
   "name": "python",
   "nbconvert_exporter": "python",
   "pygments_lexer": "ipython3",
   "version": "3.8.5"
  },
  "orig_nbformat": 4
 },
 "nbformat": 4,
 "nbformat_minor": 2
}
